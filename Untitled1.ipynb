{
  "nbformat": 4,
  "nbformat_minor": 0,
  "metadata": {
    "colab": {
      "provenance": [],
      "authorship_tag": "ABX9TyNJHzEBbbl11WUHKVddLVyW",
      "include_colab_link": true
    },
    "kernelspec": {
      "name": "python3",
      "display_name": "Python 3"
    },
    "language_info": {
      "name": "python"
    }
  },
  "cells": [
    {
      "cell_type": "markdown",
      "metadata": {
        "id": "view-in-github",
        "colab_type": "text"
      },
      "source": [
        "<a href=\"https://colab.research.google.com/github/agustin885/taxinomitis-docs/blob/master/Untitled1.ipynb\" target=\"_parent\"><img src=\"https://colab.research.google.com/assets/colab-badge.svg\" alt=\"Open In Colab\"/></a>"
      ]
    },
    {
      "cell_type": "code",
      "execution_count": 2,
      "metadata": {
        "colab": {
          "base_uri": "https://localhost:8080/"
        },
        "id": "7NViS7TeLKFP",
        "outputId": "fa83f5cc-aac1-40f1-df94-30eadba543f0"
      },
      "outputs": [
        {
          "output_type": "stream",
          "name": "stdout",
          "text": [
            "hello world\n"
          ]
        }
      ],
      "source": [
        "print (\"hello world\")"
      ]
    },
    {
      "cell_type": "code",
      "source": [
        "nombre=str(input(\"Dime tu nombre \"))\n",
        "apellido=str(input(\"tu apellido  \"))\n",
        "if nombre == \"Agustín\":\n",
        "    if apellido == \"Pérez\":\n",
        "        print(\"tu eres Agustín Pérez\")\n",
        "else:\n",
        "    print(\"tu no eres Agustín Pérez\")\n"
      ],
      "metadata": {
        "colab": {
          "base_uri": "https://localhost:8080/"
        },
        "id": "s4-vIfFeMkGW",
        "outputId": "0a792b8a-58e6-4ac1-ebc2-532bd2834dcd"
      },
      "execution_count": 5,
      "outputs": [
        {
          "output_type": "stream",
          "name": "stdout",
          "text": [
            "Dime tu nombre Agustín\n",
            "tu apellido  Pérez\n",
            "tu eres Agustín Pérez\n"
          ]
        }
      ]
    }
  ]
}